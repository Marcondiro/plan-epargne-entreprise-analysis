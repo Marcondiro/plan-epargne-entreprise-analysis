{
  "cells": [
    {
      "cell_type": "markdown",
      "metadata": {},
      "source": [
        "# Interessement and Plan Epargne Entreprise (PEE) analysis\n",
        "\n",
        "To run the notebook with your data, copy `params_demo.py`, rename it to `params.py` and adjust the values.\n",
        "\n",
        "If you just want the TLDR go to the [results](#Results).\n",
        "\n",
        "__TODO: Add more PEE funds and comparisons__\n",
        "\n",
        "### Disclaimer\n",
        "\n",
        "- This is not financial advice.\n",
        "\n",
        "- The software is provided without any warranty as for the LICENSE.\n",
        "\n",
        "- I am not responsible for any decision based on this software. The software might be incorrect and give not accurate or completely wrong results.\n",
        "\n",
        "- Past returns are not a guarantee for future returns and they are used here just as a reference\n",
        "\n",
        "### Rant\n",
        "\n",
        "Finding the data for the funds has been much more difficult that it should be.\n",
        "Shame on the banks and companies managing the funds who make it difficult for private investor to access raw data and make truly informed decisions."
      ]
    },
    {
      "cell_type": "code",
      "execution_count": 1,
      "metadata": {
        "id": "4UOrAdbjbLKp"
      },
      "outputs": [
        {
          "name": "stdout",
          "output_type": "stream",
          "text": [
            "Running in DEMO mode using default values.\n"
          ]
        }
      ],
      "source": [
        "import pandas as pd\n",
        "import numpy as np\n",
        "\n",
        "# import parameters and constants\n",
        "import consts\n",
        "try:\n",
        "    import params                    \n",
        "except:\n",
        "    print(\"Running in DEMO mode using default values.\")\n",
        "    import params_demo as params\n",
        "\n",
        "# check parameters for unsupported scenarios\n",
        "if params.QUOTIENT_FAMILIAL != 1:\n",
        "    print(\n",
        "        \"\"\"\"\n",
        "        Quotient familial is not yet supported in this notebook.\n",
        "        Feel free to open a PR that adds this feature.\n",
        "        \"\"\"\n",
        "    )\n",
        "\n",
        "if params.PRIME > consts.PRIME_TAX_EXEMPTION_LIMIT:\n",
        "    print(\n",
        "        \"\"\"\n",
        "        The prime exceeds the no tax limit.\n",
        "        This is not yet supported in this notebook.\n",
        "        Feel free to open a PR that adds this feature.\n",
        "        \"\"\"\n",
        "    )\n",
        "\n",
        "if params.YEARS < 5:\n",
        "    print(\n",
        "        \"\"\"\n",
        "        The selected number of years is less than 5.\n",
        "        The PEE minimum duration is 5 years except in some specific cases like marriage or contract termination.\n",
        "        \"\"\"\n",
        "    )\n",
        "\n",
        "# create a dictionary to store the results\n",
        "results = {}"
      ]
    },
    {
      "cell_type": "markdown",
      "metadata": {},
      "source": [
        "## Cash out\n",
        "Take the cash now instead of PEE"
      ]
    },
    {
      "cell_type": "code",
      "execution_count": 2,
      "metadata": {},
      "outputs": [
        {
          "name": "stdout",
          "output_type": "stream",
          "text": [
            "Tax rate on the prime is 30.00%: 619.80 euros\n",
            "Net prime after impôt sur le revenu is 1446.20 euros\n"
          ]
        }
      ],
      "source": [
        "def calculate_impot_revenu_prime(revenus, prime):\n",
        "    tax = 0.0\n",
        "    for lower, upper, rate in consts.BAREME_IMPOT_REVENU:\n",
        "        if revenus > upper:\n",
        "            continue\n",
        "        if revenus + prime > lower:\n",
        "            amount = revenus + prime\n",
        "            tax += (min(amount, upper) - max(revenus, lower)) * rate\n",
        "        else:\n",
        "            break\n",
        "    return tax\n",
        "\n",
        "prime_tax = calculate_impot_revenu_prime(params.REVENUS, params.PRIME)\n",
        "prime_tax_percent = prime_tax / params.PRIME * 100\n",
        "print(f\"Tax rate on the prime is {prime_tax_percent:.2f}%: {prime_tax:.2f} euros\")\n",
        "\n",
        "prime_net = params.PRIME - prime_tax\n",
        "print(f\"Net prime after impôt sur le revenu is {prime_net:.2f} euros\")\n",
        "\n",
        "results[\"Cash\"] = [prime_net]"
      ]
    },
    {
      "cell_type": "markdown",
      "metadata": {},
      "source": [
        "## Invest"
      ]
    },
    {
      "cell_type": "code",
      "execution_count": 3,
      "metadata": {},
      "outputs": [],
      "source": [
        "def past_returns(df: pd.DataFrame, initial_amount, gain_tax, entrance_fee = 0) -> pd.DataFrame:\n",
        "    \"\"\"\n",
        "    Run an investment simulation on past data for a `params.YEARS` period.\n",
        "\n",
        "    df: pd.DataFrame with `date` and `price` columns, monthly frequency\n",
        "    \"\"\"\n",
        "\n",
        "    # make sure data is sorted by date\n",
        "    sorted = df['price'].sort_index()\n",
        "\n",
        "    # Apply entrance fee\n",
        "    initial_amount *= (1 - entrance_fee)\n",
        "    # Compute the past returns on investment over the configured number of years\n",
        "    roi = sorted.pct_change(periods=12*params.YEARS)\n",
        "    gross = initial_amount * (1 + roi)\n",
        "    # Apply gain tax\n",
        "    net = gross.apply(lambda x: x if x <= initial_amount else initial_amount + (x - initial_amount) * (1 - gain_tax))\n",
        "    return net"
      ]
    },
    {
      "cell_type": "markdown",
      "metadata": {},
      "source": [
        "### PEE CM-AM AVENIR MONETAIRE"
      ]
    },
    {
      "cell_type": "code",
      "execution_count": 4,
      "metadata": {},
      "outputs": [],
      "source": [
        "# From the KID (Document d’informations clés)\n",
        "entrance_fee = 0.01\n",
        "\n",
        "# Load historical data of the fund\n",
        "df = pd.read_excel(\"./data/CM-AM AVENIR MONETAIRE.xlsx\", skiprows=6, usecols=\"A:D\", parse_dates=[\"Date de cotation\"], date_format='%d/%m/%Y', index_col='Date de cotation', skipfooter=5)\n",
        "\n",
        "\n",
        "df['price'] = df['Dernier cours en EUR']\n",
        "results['PEE Monetaire'] = past_returns(df, params.PRIME, consts.PRELEVEMENT_SOCIAUX, entrance_fee)"
      ]
    },
    {
      "cell_type": "markdown",
      "metadata": {},
      "source": [
        "### PEE CM-AM AVENIR DYNAMIQUE\n",
        "I wasn't able to find decent data for this fund"
      ]
    },
    {
      "cell_type": "markdown",
      "metadata": {},
      "source": [
        "### PEE CM-AM PERSPECTIVE CERTITUDE"
      ]
    },
    {
      "cell_type": "code",
      "execution_count": 5,
      "metadata": {},
      "outputs": [],
      "source": [
        "# From the KID (Document d’informations clés)\n",
        "entrance_fee = 0.005\n",
        "\n",
        "df = pd.read_excel(\"./data/CM-AM PERSPECTIVE CERTITUDE.xlsx\", skiprows=6, usecols=\"A:D\", parse_dates=[\"Date de cotation\"], date_format='%d/%m/%Y', index_col='Date de cotation', skipfooter=2)\n",
        "\n",
        "df['price'] = df['Dernier cours en EUR']\n",
        "results[\"PEE Certitude\"] = past_returns(df, params.PRIME, consts.PRELEVEMENT_SOCIAUX, entrance_fee)"
      ]
    },
    {
      "cell_type": "markdown",
      "metadata": {},
      "source": [
        "### PEE SOCIAL ACTIVE TEMPERE SOLIDAIRE"
      ]
    },
    {
      "cell_type": "code",
      "execution_count": 6,
      "metadata": {},
      "outputs": [],
      "source": [
        "# From the KID (Document d’informations clés)\n",
        "entrance_fee = 0.005\n",
        "\n",
        "df = pd.read_excel(\"./data/SOCIAL ACTIVE TEMPERE SOLIDAIRE.xlsx\", skiprows=6, usecols=\"A:D\", parse_dates=[\"Date de cotation\"], date_format='%d/%m/%Y', index_col='Date de cotation', skipfooter=1)\n",
        "\n",
        "df['price'] = df['Dernier cours en EUR']\n",
        "results[\"PEE SA TEMP SOL\"] = past_returns(df, params.PRIME, consts.PRELEVEMENT_SOCIAUX, entrance_fee)"
      ]
    },
    {
      "cell_type": "markdown",
      "metadata": {},
      "source": [
        "### PEE CM-AM AVENIR ACTIONS FRANCE\n",
        "_At this point just bet on black at the casino instead._"
      ]
    },
    {
      "cell_type": "code",
      "execution_count": 7,
      "metadata": {},
      "outputs": [],
      "source": [
        "# From the KID (Document d’informations clés)\n",
        "entrance_fee = 0.01\n",
        "\n",
        "df = pd.read_excel(\"./data/CM-AM AVENIR ACTIONS FRANCE.xlsx\", skiprows=6, usecols=\"A:D\", parse_dates=[\"Date de cotation\"], date_format='%d/%m/%Y', index_col='Date de cotation', skipfooter=2)\n",
        "\n",
        "df['price'] = df['Dernier cours en EUR']\n",
        "results[\"PEE France\"] = past_returns(df, params.PRIME, consts.PRELEVEMENT_SOCIAUX, entrance_fee)"
      ]
    },
    {
      "cell_type": "markdown",
      "metadata": {},
      "source": [
        "### PEE CM-AM AVENIR ACTIONS INTERNATIONAL"
      ]
    },
    {
      "cell_type": "code",
      "execution_count": 8,
      "metadata": {},
      "outputs": [],
      "source": [
        "# From the KID (Document d’informations clés)\n",
        "entrance_fee = 0.01\n",
        "\n",
        "df = pd.read_excel(\"./data/CM-AM AVENIR ACTIONS INTERNATIONAL.xlsx\", skiprows=6, usecols=\"A:D\", parse_dates=[\"Date de cotation\"], date_format='%d/%m/%Y', index_col='Date de cotation', skipfooter=2)\n",
        "\n",
        "df['price'] = df['Dernier cours en EUR']\n",
        "results[\"PEE INTL\"] = past_returns(df, params.PRIME, consts.PRELEVEMENT_SOCIAUX, entrance_fee)"
      ]
    },
    {
      "cell_type": "markdown",
      "metadata": {},
      "source": [
        "### PEE CM-AM AVENIR DYNAMIQUE"
      ]
    },
    {
      "cell_type": "code",
      "execution_count": 9,
      "metadata": {},
      "outputs": [],
      "source": [
        "# From the KID (Document d’informations clés)\n",
        "entrance_fee = 0.01\n",
        "\n",
        "df = pd.read_excel(\"./data/CM-AM AVENIR DYNAMIQUE.xlsx\", skiprows=6, usecols=\"A:D\", parse_dates=[\"Date de cotation\"], date_format='%d/%m/%Y', index_col='Date de cotation', skipfooter=5)\n",
        "\n",
        "df['price'] = df['Dernier cours en EUR']\n",
        "results[\"PEE Dynamique\"] = past_returns(df, params.PRIME, consts.PRELEVEMENT_SOCIAUX, entrance_fee)"
      ]
    },
    {
      "cell_type": "markdown",
      "metadata": {},
      "source": [
        "### PEE CM-AM AVENIR OBLIG"
      ]
    },
    {
      "cell_type": "code",
      "execution_count": 10,
      "metadata": {},
      "outputs": [],
      "source": [
        "# From the KID (Document d’informations clés)\n",
        "entrance_fee = 0.01\n",
        "\n",
        "df = pd.read_excel(\"./data/CM-AM AVENIR OBLIG.xlsx\", skiprows=6, usecols=\"A:D\", parse_dates=[\"Date de cotation\"], date_format='%d/%m/%Y', index_col='Date de cotation', skipfooter=5)\n",
        "\n",
        "df['price'] = df['Dernier cours en EUR']\n",
        "results[\"PEE OBLIG\"] = past_returns(df, params.PRIME, consts.PRELEVEMENT_SOCIAUX, entrance_fee)"
      ]
    },
    {
      "cell_type": "markdown",
      "metadata": {},
      "source": [
        "### PEE CM-AM AVENIR TEMPERE"
      ]
    },
    {
      "cell_type": "code",
      "execution_count": 11,
      "metadata": {},
      "outputs": [],
      "source": [
        "# From the KID (Document d’informations clés)\n",
        "entrance_fee = 0.01\n",
        "\n",
        "df = pd.read_excel(\"./data/CM-AM AVENIR TEMPERE.xlsx\", skiprows=6, usecols=\"A:D\", parse_dates=[\"Date de cotation\"], date_format='%d/%m/%Y', index_col='Date de cotation', skipfooter=5)\n",
        "\n",
        "df['price'] = df['Dernier cours en EUR']\n",
        "results[\"PEE TEMPERE\"] = past_returns(df, params.PRIME, consts.PRELEVEMENT_SOCIAUX, entrance_fee)"
      ]
    },
    {
      "cell_type": "markdown",
      "metadata": {},
      "source": [
        "### PEE CM-AM AVENIR EQUILIBRE"
      ]
    },
    {
      "cell_type": "code",
      "execution_count": 12,
      "metadata": {},
      "outputs": [],
      "source": [
        "# From the KID (Document d’informations clés)\n",
        "entrance_fee = 0.01\n",
        "\n",
        "df = pd.read_excel(\"./data/CM-AM AVENIR EQUILIBRE.xlsx\", skiprows=6, usecols=\"A:D\", parse_dates=[\"Date de cotation\"], date_format='%d/%m/%Y', index_col='Date de cotation', skipfooter=5)\n",
        "\n",
        "df['price'] = df['Dernier cours en EUR']\n",
        "results[\"PEE EQUILIBRE\"] = past_returns(df, params.PRIME, consts.PRELEVEMENT_SOCIAUX, entrance_fee)"
      ]
    },
    {
      "cell_type": "markdown",
      "metadata": {},
      "source": [
        "### PEE CM-AM AVENIR ACTIONS EUROPE"
      ]
    },
    {
      "cell_type": "code",
      "execution_count": 13,
      "metadata": {},
      "outputs": [],
      "source": [
        "# From the KID (Document d’informations clés)\n",
        "entrance_fee = 0.01\n",
        "\n",
        "df = pd.read_excel(\"./data/CM-AM AVENIR ACTIONS EUROPE.xlsx\", skiprows=6, usecols=\"A:D\", parse_dates=[\"Date de cotation\"], date_format='%d/%m/%Y', index_col='Date de cotation', skipfooter=5)\n",
        "\n",
        "df['price'] = df['Dernier cours en EUR']\n",
        "results[\"PEE Europe\"] = past_returns(df, params.PRIME, consts.PRELEVEMENT_SOCIAUX, entrance_fee)\n",
        "\n",
        "df = df[df.index >= \"2009-02\"]\n",
        "results[\"PEE Europe >2008\"] = past_returns(df, params.PRIME, consts.PRELEVEMENT_SOCIAUX, entrance_fee)\n"
      ]
    },
    {
      "cell_type": "markdown",
      "metadata": {},
      "source": [
        "### PEA ETF EURO STOXX 50\n",
        "Cash out and put everything in an ETF, on a plan d'épargne en actions(PEA), having the same benchmark as the PEE Europe fund."
      ]
    },
    {
      "cell_type": "code",
      "execution_count": 14,
      "metadata": {},
      "outputs": [],
      "source": [
        "# Fees from bourse direct as an example\n",
        "entrance_fixed_fee = 5      # for the sake of simplicity\n",
        "exit_fixed_fee = 6          # transfer out\n",
        "\n",
        "df = pd.read_csv(\"./data/AMUNDIEUROSTOXX50UCITSETFDREURC.txt\", sep=\"\\t\", parse_dates=[\"date\"], dayfirst=True, index_col='date')\n",
        "\n",
        "df['price'] = df['clot']\n",
        "results[\"PEA ETF Europe > 2008\"] = past_returns(df, prime_net - entrance_fixed_fee, consts.PRELEVEMENT_SOCIAUX) - exit_fixed_fee"
      ]
    },
    {
      "cell_type": "markdown",
      "metadata": {},
      "source": [
        "### Livret A / LDDS\n",
        "What if I cash out and put everything in a livrets défiscalisés.\n",
        "\n",
        "_Note: these savings accounts have quite low limits that are not taken into account here_"
      ]
    },
    {
      "cell_type": "code",
      "execution_count": 15,
      "metadata": {},
      "outputs": [],
      "source": [
        "df = pd.read_csv(\"./data/LIVRET_A.csv\", sep=\";\", skiprows=6,\n",
        "                 names=[\"date\", \"rate\"], decimal=\",\", parse_dates=[\"date\"], index_col='date')\n",
        "df.sort_index(inplace=True)\n",
        "# In the past (pre 2000) the rates were quite high, it is more likely that they will be aligned with the recent rates\n",
        "# (This might be questionable, feel free to change it)\n",
        "df = df[df.index.year >= 2000]\n",
        "# Filter to keep only February of any year (at least recently is the only month in which the rate is updated)\n",
        "df = df[df.index.month == 2]\n",
        "df['rate'] /= 100\n",
        "df['returns'] = (df['rate'] + 1).rolling(window=params.YEARS).apply(lambda x: np.prod(x)) - 1\n",
        "# No gain tax on the Livret A\n",
        "df['net'] = prime_net * (1 + df['returns'])\n",
        "\n",
        "results[\"Livret A\"]= df['net']"
      ]
    },
    {
      "cell_type": "markdown",
      "metadata": {},
      "source": [
        "## Results"
      ]
    },
    {
      "cell_type": "code",
      "execution_count": 16,
      "metadata": {},
      "outputs": [
        {
          "data": {
            "image/png": "[encoded data removed]",
            "text/plain": [
              "<Figure size 1000x600 with 1 Axes>"
            ]
          },
          "metadata": {},
          "output_type": "display_data"
        }
      ],
      "source": [
        "df = pd.DataFrame(dict([(key, pd.Series(value)) for key, value in results.items()]))\n",
        "plt = df.plot(kind='box', figsize=(10,6))\n",
        "plt.xaxis.set_tick_params(rotation=45)"
      ]
    },
    {
      "cell_type": "markdown",
      "metadata": {},
      "source": [
        "### Notes\n",
        "\n",
        "- The graph doesn't show some other important aspects such as the possibility of withdrawal for the different cases.\n",
        "- Date ranges might not be the same for all products, the maximum data available is generally considered. To have a more fair comparison (but less precise single results) adjust the dates to be the same for each product you are interested in."
      ]
    }
  ],
  "metadata": {
    "colab": {
      "authorship_tag": "ABX9TyMsp0SFV/I5vFuEzFT7Vlr+",
      "provenance": []
    },
    "kernelspec": {
      "display_name": ".venv",
      "language": "python",
      "name": "python3"
    },
    "language_info": {
      "codemirror_mode": {
        "name": "ipython",
        "version": 3
      },
      "file_extension": ".py",
      "mimetype": "text/x-python",
      "name": "python",
      "nbconvert_exporter": "python",
      "pygments_lexer": "ipython3",
      "version": "3.13.3"
    }
  },
  "nbformat": 4,
  "nbformat_minor": 0
}
